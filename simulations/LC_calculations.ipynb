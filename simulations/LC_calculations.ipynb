{
 "cells": [
  {
   "cell_type": "markdown",
   "metadata": {},
   "source": [
    "get resonant frequency"
   ]
  },
  {
   "cell_type": "code",
   "execution_count": 64,
   "metadata": {},
   "outputs": [],
   "source": [
    "import math\n",
    "def ll(z0,*z123):\n",
    "    z=z0\n",
    "    for i in z123:\n",
    "        z=1/(1/(z)+1/i)\n",
    "    return z\n",
    "def order(num, rounding = 3):\n",
    "    letters = ['f','p','n','u','m',\"\",'k','M','G']\n",
    "    log = math.log10(abs(num))\n",
    "    order3=int(log//3)\n",
    "    multiply=10**(-order3*3)\n",
    "    index = order3+5\n",
    "    number = round(num*multiply,rounding)\n",
    "    return f'{number} {letters[index]}'\n",
    "\n",
    "\n",
    "def xtolc(x,f=10.12e6):\n",
    "    w=2*3.14159*f\n",
    "    l=x/w\n",
    "    c=-1/(w*x)\n",
    "    print(f'l= {order(l)}H')\n",
    "    print(f'c= {order(c)}F')\n",
    "\n",
    "\n",
    "\n",
    "def lcf(l=None, c=None, f = None):\n",
    "    \n",
    "    if l==None:\n",
    "        w = 2*3.14159*f\n",
    "        xc= -1/(w*c)\n",
    "        l=-xc/w\n",
    "        print(f'{xc= }')\n",
    "        print(f'l= {order(l)}')\n",
    "    elif c==None:\n",
    "        pass\n",
    "    elif f == None:\n",
    "        pass\n",
    "    else:\n",
    "        w = 2*3.14159*f\n",
    "        xl= w*l\n",
    "        xc =-1/(w*c)\n",
    "        print(f'{xl=}')\n",
    "        print(f'{xc=}')\n",
    "        print(f'{xc+xl=}')\n",
    "\n",
    "        \n",
    "        "
   ]
  },
  {
   "cell_type": "code",
   "execution_count": 65,
   "metadata": {},
   "outputs": [
    {
     "name": "stdout",
     "output_type": "stream",
     "text": [
      "l= -3.145 uH\n",
      "c= 78.634 pF\n"
     ]
    }
   ],
   "source": [
    "xtolc(-200)"
   ]
  },
  {
   "cell_type": "code",
   "execution_count": 80,
   "metadata": {},
   "outputs": [
    {
     "name": "stdout",
     "output_type": "stream",
     "text": [
      "xl=151.47490344000002\n",
      "xc=-149.26324988609196\n",
      "xc+xl=2.2116535539080644\n"
     ]
    }
   ],
   "source": [
    "l=2.46e-6\n",
    "f=9.8e6\n",
    "c=ll(110e-12, 10e-9)\n",
    "lcf(l,c,f)"
   ]
  },
  {
   "cell_type": "code",
   "execution_count": 60,
   "metadata": {},
   "outputs": [
    {
     "data": {
      "text/plain": [
       "(2.787450980392156+9.223529411764705j)"
      ]
     },
     "execution_count": 60,
     "metadata": {},
     "output_type": "execute_result"
    }
   ],
   "source": []
  },
  {
   "cell_type": "code",
   "execution_count": 2,
   "metadata": {},
   "outputs": [
    {
     "name": "stdout",
     "output_type": "stream",
     "text": [
      "xl=2431.1194215\n",
      "xc=-798.4702246303186\n"
     ]
    },
    {
     "data": {
      "text/plain": [
       "6.719532639853531"
      ]
     },
     "execution_count": 2,
     "metadata": {},
     "output_type": "execute_result"
    }
   ],
   "source": [
    "L = 33e-6\n",
    "C=17e-12\n",
    "f=11.725e6\n",
    "w = 2*3.14159*f\n",
    "xl= w*L\n",
    "xc =-1/(w*C)\n",
    "print(f'{xl=}')\n",
    "print(f'{xc=}')\n",
    "#2pif l = 1/(2pifc)\n",
    "#2pif = 1/root(lc)\n",
    "fmhz = (L*C)**-(1/2)/(2*3.14159)*1e-6\n",
    "fmhz\n"
   ]
  },
  {
   "cell_type": "code",
   "execution_count": 2,
   "metadata": {},
   "outputs": [
    {
     "data": {
      "text/plain": [
       "4.088964442327466e-06"
      ]
     },
     "execution_count": 2,
     "metadata": {},
     "output_type": "execute_result"
    }
   ],
   "source": [
    "xl=260\n",
    "f=10.12e6\n",
    "w = 2*3.14159*f\n",
    "l=xl/w\n",
    "l"
   ]
  },
  {
   "cell_type": "code",
   "execution_count": 1,
   "metadata": {},
   "outputs": [
    {
     "data": {
      "text/plain": [
       "2.4983010893877182e-06"
      ]
     },
     "execution_count": 1,
     "metadata": {},
     "output_type": "execute_result"
    }
   ],
   "source": [
    "w=2*3.14159*10.12e6\n",
    "C=99e-12\n",
    "xc=1/(w*C)\n",
    "l=xc/w\n",
    "l\n",
    "\n"
   ]
  },
  {
   "cell_type": "code",
   "execution_count": 16,
   "metadata": {},
   "outputs": [],
   "source": [
    "import numpy as np\n",
    "\n",
    "# Define time points and corresponding frequencies\n",
    "time_points = np.linspace(0, 10e-3, 1000)  # 10 ms time span\n",
    "frequencies = np.linspace(10000, 100, 1000)  # Decreasing frequency from 2 kHz to 100 Hz\n",
    "\n",
    "# Generate sine wave amplitude based on the frequencies\n",
    "amplitudes = 5 * np.sin(2 * np.pi * frequencies * time_points)\n",
    "\n",
    "# Save the data to a text file in PWL format\n",
    "with open('sine_wave_pwl.txt', 'w') as file:\n",
    "    for time, amplitude in zip(time_points, amplitudes):\n",
    "        file.write(f\"{time} {amplitude}\\n\")"
   ]
  }
 ],
 "metadata": {
  "kernelspec": {
   "display_name": "ENEL441",
   "language": "python",
   "name": "python3"
  },
  "language_info": {
   "codemirror_mode": {
    "name": "ipython",
    "version": 3
   },
   "file_extension": ".py",
   "mimetype": "text/x-python",
   "name": "python",
   "nbconvert_exporter": "python",
   "pygments_lexer": "ipython3",
   "version": "3.9.15"
  }
 },
 "nbformat": 4,
 "nbformat_minor": 2
}
